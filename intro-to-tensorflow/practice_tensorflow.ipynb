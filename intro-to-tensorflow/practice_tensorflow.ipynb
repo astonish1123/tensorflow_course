{
 "nbformat": 4,
 "nbformat_minor": 2,
 "metadata": {
  "language_info": {
   "name": "python",
   "codemirror_mode": {
    "name": "ipython",
    "version": 2
   }
  },
  "orig_nbformat": 2,
  "file_extension": ".py",
  "mimetype": "text/x-python",
  "name": "python",
  "npconvert_exporter": "python",
  "pygments_lexer": "ipython2",
  "version": 2
 },
 "cells": [
  {
   "cell_type": "code",
   "execution_count": null,
   "metadata": {},
   "outputs": [
    {
     "output_type": "error",
     "ename": "TypeError",
     "evalue": "request to http://localhost:8888/api/contents/?1583514792965 failed, reason: connect ECONNREFUSED 127.0.0.1:8888",
     "traceback": [
      "FetchError: request to http://localhost:8888/api/contents/?1583514792965 failed, reason: connect ECONNREFUSED 127.0.0.1:8888",
      "at ClientRequest.<anonymous> (/home/ethan/.vscode/extensions/ms-python.python-2020.2.64397/out/client/node_modules/@jupyterlab/services.js:3:532348)",
      "at ClientRequest.emit (events.js:200:13)",
      "at Socket.socketErrorListener (_http_client.js:402:9)",
      "at Socket.emit (events.js:200:13)",
      "at emitErrorNT (internal/streams/destroy.js:91:8)",
      "at emitErrorAndCloseNT (internal/streams/destroy.js:59:3)",
      "at processTicksAndRejections (internal/process/task_queues.js:84:9)"
     ]
    }
   ],
   "source": [
    "import numpy as np\nimport tensorflow as tf\nimport warnings\nwarnings.filterwarnings('ignore')\nimport logging\nlogger = tf.get_logger()\nlogger.setLevel(logging.ERROR)\n"
   ]
  },
  {
   "cell_type": "code",
   "execution_count": null,
   "metadata": {},
   "outputs": [
    {
     "output_type": "error",
     "ename": "TypeError",
     "evalue": "request to http://localhost:8888/api/contents/?1583514875130 failed, reason: connect ECONNREFUSED 127.0.0.1:8888",
     "traceback": [
      "FetchError: request to http://localhost:8888/api/contents/?1583514875130 failed, reason: connect ECONNREFUSED 127.0.0.1:8888",
      "at ClientRequest.<anonymous> (/home/ethan/.vscode/extensions/ms-python.python-2020.2.64397/out/client/node_modules/@jupyterlab/services.js:3:532348)",
      "at ClientRequest.emit (events.js:200:13)",
      "at Socket.socketErrorListener (_http_client.js:402:9)",
      "at Socket.emit (events.js:200:13)",
      "at emitErrorNT (internal/streams/destroy.js:91:8)",
      "at emitErrorAndCloseNT (internal/streams/destroy.js:59:3)",
      "at processTicksAndRejections (internal/process/task_queues.js:84:9)"
     ]
    }
   ],
   "source": [
    "print('Using: ')\nprint('\\t\\u2022 TensorFlow version: ', tf.__version__)"
   ]
  },
  {
   "cell_type": "code",
   "execution_count": null,
   "metadata": {},
   "outputs": [],
   "source": []
  }
 ]
}